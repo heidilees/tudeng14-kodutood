{
 "cells": [
  {
   "cell_type": "markdown",
   "metadata": {},
   "source": [
    "##Kas kodutoo on tehtud?"
   ]
  },
  {
   "cell_type": "markdown",
   "metadata": {},
   "source": [
    "#### Bioinformaatika"
   ]
  },
  {
   "cell_type": "markdown",
   "metadata": {},
   "source": [
    "#Tere!\n"
   ]
  },
  {
   "cell_type": "code",
   "execution_count": 1,
   "metadata": {
    "collapsed": false
   },
   "outputs": [
    {
     "name": "stdout",
     "output_type": "stream",
     "text": [
      "Ujuvkomaarv: 34.6825\n",
      "Taisarv: 1\n",
      "Boolean: True\n",
      "Stringid: Tere, Tiina!\n",
      "Hulk1: False\n",
      "Hulk2: True\n"
     ]
    }
   ],
   "source": [
    "\n",
    "Ujuvkomaarv = 4.55**2 + 6.99/0.5\n",
    "print('Ujuvkomaarv:', Ujuvkomaarv)\n",
    "\n",
    "Taisarv = 7 // 7\n",
    "print('Taisarv:', Taisarv)\n",
    "\n",
    "Boolean = 2**2 == 5-1 and 4**2 > 15\n",
    "print('Boolean:', Boolean)\n",
    "type(Boolean)\n",
    "\n",
    "str1 = 'Tere, '\n",
    "str2 = 'Tiina!'\n",
    "print('Stringid:', str1 + str2)\n",
    "\n",
    "Hulk1 = 3 not in {1,3,5}\n",
    "print('Hulk1:', Hulk1)\n",
    "\n",
    "Hulk2 = 5 in {9,10-5,100}\n",
    "print('Hulk2:', Hulk2)\n",
    "\n",
    "\n",
    "\n",
    "\n"
   ]
  },
  {
   "cell_type": "code",
   "execution_count": null,
   "metadata": {
    "collapsed": true
   },
   "outputs": [],
   "source": []
  },
  {
   "cell_type": "code",
   "execution_count": null,
   "metadata": {
    "collapsed": true
   },
   "outputs": [],
   "source": []
  }
 ],
 "metadata": {
  "kernelspec": {
   "display_name": "Python 3",
   "language": "python",
   "name": "python3"
  },
  "language_info": {
   "codemirror_mode": {
    "name": "ipython",
    "version": 3
   },
   "file_extension": ".py",
   "mimetype": "text/x-python",
   "name": "python",
   "nbconvert_exporter": "python",
   "pygments_lexer": "ipython3",
   "version": "3.4.3"
  }
 },
 "nbformat": 4,
 "nbformat_minor": 0
}
